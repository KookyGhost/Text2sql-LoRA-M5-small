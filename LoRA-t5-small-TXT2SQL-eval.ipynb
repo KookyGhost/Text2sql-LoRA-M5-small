{
 "cells": [
  {
   "cell_type": "code",
   "execution_count": 16,
   "id": "963ab9ca-da2d-437d-8a47-64c27e94a4c5",
   "metadata": {
    "tags": []
   },
   "outputs": [],
   "source": [
    "from sklearn.model_selection import train_test_split\n",
    "from datasets import Dataset, DatasetDict, load_dataset, interleave_datasets, load_from_disk\n",
    "from transformers import AutoModelForSeq2SeqLM, AutoTokenizer, GenerationConfig, TrainingArguments, Trainer, pipeline\n",
    "import torch\n",
    "import time\n",
    "import evaluate\n",
    "import pandas as pd\n",
    "import numpy as np\n",
    "from peft import LoraConfig, TaskType, get_peft_model\n",
    "# from trl import SFTTrainer, SFTConfig"
   ]
  },
  {
   "cell_type": "code",
   "execution_count": 15,
   "id": "08e6ee50-b7cd-4b52-a329-c0b6b652a296",
   "metadata": {
    "collapsed": true,
    "jupyter": {
     "outputs_hidden": true
    },
    "tags": []
   },
   "outputs": [
    {
     "name": "stderr",
     "output_type": "stream",
     "text": [
      "huggingface/tokenizers: The current process just got forked, after parallelism has already been used. Disabling parallelism to avoid deadlocks...\n",
      "To disable this warning, you can either:\n",
      "\t- Avoid using `tokenizers` before the fork if possible\n",
      "\t- Explicitly set the environment variable TOKENIZERS_PARALLELISM=(true | false)\n"
     ]
    },
    {
     "name": "stdout",
     "output_type": "stream",
     "text": [
      "Requirement already satisfied: evaluate in /usr/local/lib/python3.11/dist-packages (0.4.3)\n",
      "Requirement already satisfied: datasets>=2.0.0 in /usr/local/lib/python3.11/dist-packages (from evaluate) (3.4.1)\n",
      "Requirement already satisfied: numpy>=1.17 in /usr/local/lib/python3.11/dist-packages (from evaluate) (1.26.3)\n",
      "Requirement already satisfied: dill in /usr/local/lib/python3.11/dist-packages (from evaluate) (0.3.7)\n",
      "Requirement already satisfied: pandas in /usr/local/lib/python3.11/dist-packages (from evaluate) (2.2.0)\n",
      "Requirement already satisfied: requests>=2.19.0 in /usr/local/lib/python3.11/dist-packages (from evaluate) (2.32.3)\n",
      "Requirement already satisfied: tqdm>=4.62.1 in /usr/local/lib/python3.11/dist-packages (from evaluate) (4.67.1)\n",
      "Requirement already satisfied: xxhash in /usr/local/lib/python3.11/dist-packages (from evaluate) (3.4.1)\n",
      "Requirement already satisfied: multiprocess in /usr/local/lib/python3.11/dist-packages (from evaluate) (0.70.15)\n",
      "Requirement already satisfied: fsspec>=2021.05.0 in /usr/local/lib/python3.11/dist-packages (from fsspec[http]>=2021.05.0->evaluate) (2023.6.0)\n",
      "Requirement already satisfied: huggingface-hub>=0.7.0 in /usr/local/lib/python3.11/dist-packages (from evaluate) (0.29.3)\n",
      "Requirement already satisfied: packaging in /usr/local/lib/python3.11/dist-packages (from evaluate) (23.2)\n",
      "Requirement already satisfied: filelock in /usr/local/lib/python3.11/dist-packages (from datasets>=2.0.0->evaluate) (3.13.1)\n",
      "Requirement already satisfied: pyarrow>=15.0.0 in /usr/local/lib/python3.11/dist-packages (from datasets>=2.0.0->evaluate) (15.0.0)\n",
      "Requirement already satisfied: aiohttp in /usr/local/lib/python3.11/dist-packages (from datasets>=2.0.0->evaluate) (3.9.1)\n",
      "Requirement already satisfied: pyyaml>=5.1 in /usr/lib/python3/dist-packages (from datasets>=2.0.0->evaluate) (5.4.1)\n",
      "Requirement already satisfied: typing-extensions>=3.7.4.3 in /usr/local/lib/python3.11/dist-packages (from huggingface-hub>=0.7.0->evaluate) (4.9.0)\n",
      "Requirement already satisfied: charset-normalizer<4,>=2 in /usr/local/lib/python3.11/dist-packages (from requests>=2.19.0->evaluate) (3.3.2)\n",
      "Requirement already satisfied: idna<4,>=2.5 in /usr/lib/python3/dist-packages (from requests>=2.19.0->evaluate) (3.3)\n",
      "Requirement already satisfied: urllib3<3,>=1.21.1 in /usr/local/lib/python3.11/dist-packages (from requests>=2.19.0->evaluate) (2.0.7)\n",
      "Requirement already satisfied: certifi>=2017.4.17 in /usr/lib/python3/dist-packages (from requests>=2.19.0->evaluate) (2020.6.20)\n",
      "Requirement already satisfied: python-dateutil>=2.8.2 in /usr/local/lib/python3.11/dist-packages (from pandas->evaluate) (2.8.2)\n",
      "Requirement already satisfied: pytz>=2020.1 in /usr/lib/python3/dist-packages (from pandas->evaluate) (2022.1)\n",
      "Requirement already satisfied: tzdata>=2022.7 in /usr/local/lib/python3.11/dist-packages (from pandas->evaluate) (2023.4)\n",
      "Requirement already satisfied: attrs>=17.3.0 in /usr/local/lib/python3.11/dist-packages (from aiohttp->datasets>=2.0.0->evaluate) (23.1.0)\n",
      "Requirement already satisfied: multidict<7.0,>=4.5 in /usr/local/lib/python3.11/dist-packages (from aiohttp->datasets>=2.0.0->evaluate) (6.0.4)\n",
      "Requirement already satisfied: yarl<2.0,>=1.0 in /usr/local/lib/python3.11/dist-packages (from aiohttp->datasets>=2.0.0->evaluate) (1.9.4)\n",
      "Requirement already satisfied: frozenlist>=1.1.1 in /usr/local/lib/python3.11/dist-packages (from aiohttp->datasets>=2.0.0->evaluate) (1.4.1)\n",
      "Requirement already satisfied: aiosignal>=1.1.2 in /usr/local/lib/python3.11/dist-packages (from aiohttp->datasets>=2.0.0->evaluate) (1.3.1)\n",
      "Requirement already satisfied: six>=1.5 in /usr/lib/python3/dist-packages (from python-dateutil>=2.8.2->pandas->evaluate) (1.16.0)\n",
      "\u001b[33mWARNING: Running pip as the 'root' user can result in broken permissions and conflicting behaviour with the system package manager. It is recommended to use a virtual environment instead: https://pip.pypa.io/warnings/venv\u001b[0m\u001b[33m\n",
      "\u001b[0mNote: you may need to restart the kernel to use updated packages.\n"
     ]
    }
   ],
   "source": [
    "pip install evaluate"
   ]
  },
  {
   "cell_type": "markdown",
   "id": "709346f9-ad10-4c88-bf7d-f8959d65f6b3",
   "metadata": {},
   "source": [
    "# Reload the base model"
   ]
  },
  {
   "cell_type": "code",
   "execution_count": 11,
   "id": "42881a49-0212-47e4-9d24-2d4adebd099c",
   "metadata": {
    "tags": []
   },
   "outputs": [],
   "source": [
    "model_name='t5-small'\n",
    "\n",
    "tokenizer = AutoTokenizer.from_pretrained(model_name)\n",
    "\n",
    "original_model = AutoModelForSeq2SeqLM.from_pretrained(model_name, torch_dtype=torch.bfloat16)\n",
    "original_model = original_model.to('cuda')"
   ]
  },
  {
   "cell_type": "markdown",
   "id": "7367b970-fb31-47d7-8298-3dda0857a0b7",
   "metadata": {},
   "source": [
    "# Get the finetuned model from your own path"
   ]
  },
  {
   "cell_type": "code",
   "execution_count": 9,
   "id": "196ffabc-17b4-440f-be7f-07a2436fd89f",
   "metadata": {
    "tags": []
   },
   "outputs": [],
   "source": [
    "finetuned_model = AutoModelForSeq2SeqLM.from_pretrained(\"checkpoint-14838\")\n",
    "finetuned_model = finetuned_model.to('cuda')\n",
    "model_name='t5-small'\n",
    "tokenizer = AutoTokenizer.from_pretrained(model_name)"
   ]
  },
  {
   "cell_type": "markdown",
   "id": "65252a91-cc68-47ed-b84f-55dff9e435c7",
   "metadata": {},
   "source": [
    "# Reload dataset"
   ]
  },
  {
   "cell_type": "code",
   "execution_count": 5,
   "id": "6cbd1445-a52d-4d90-87b8-601569a07fba",
   "metadata": {
    "tags": []
   },
   "outputs": [],
   "source": [
    "dataset = load_from_disk(\"../../merged_dataset\")"
   ]
  },
  {
   "cell_type": "markdown",
   "id": "04a0296e-f746-46b3-9fb5-c526baca140f",
   "metadata": {},
   "source": [
    "# Zero Prompt Evaluation"
   ]
  },
  {
   "cell_type": "code",
   "execution_count": 6,
   "id": "644c5e62-3020-481c-988e-45ca662cded0",
   "metadata": {
    "tags": []
   },
   "outputs": [
    {
     "name": "stdout",
     "output_type": "stream",
     "text": [
      "---------------------------------------------------------------------------------------------------\n",
      "INPUT PROMPT:\n",
      "Tables:\n",
      "CREATE TABLE table_name_11 (date VARCHAR, away_team VARCHAR)\n",
      "\n",
      "Question:\n",
      "On what Date did the Away team essendon play?\n",
      "\n",
      "Answer:\n",
      "\n",
      "---------------------------------------------------------------------------------------------------\n",
      "BASELINE HUMAN ANSWER:\n",
      "SELECT date FROM table_name_11 WHERE away_team = \"essendon\"\n",
      "\n",
      "---------------------------------------------------------------------------------------------------\n",
      "FINE-TUNED MODEL - ZERO SHOT:\n",
      "SELECT date FROM table_name_11 WHERE away_team = \"essendon\"\n"
     ]
    }
   ],
   "source": [
    "index = 0\n",
    "# index = len(dataset['test'])-200\n",
    "\n",
    "question = dataset['test'][index]['question']\n",
    "context = dataset['test'][index]['context']\n",
    "answer = dataset['test'][index]['answer']\n",
    "\n",
    "prompt = f\"\"\"Tables:\n",
    "{context}\n",
    "\n",
    "Question:\n",
    "{question}\n",
    "\n",
    "Answer:\n",
    "\"\"\"\n",
    "\n",
    "inputs = tokenizer(prompt, return_tensors='pt')\n",
    "inputs = inputs.to('cuda')\n",
    "\n",
    "output = tokenizer.decode(\n",
    "    finetuned_model.generate(\n",
    "        inputs[\"input_ids\"], \n",
    "        max_new_tokens=200,\n",
    "    )[0], \n",
    "    skip_special_tokens=True\n",
    ")\n",
    "\n",
    "dash_line = '-'.join('' for x in range(100))\n",
    "print(dash_line)\n",
    "print(f'INPUT PROMPT:\\n{prompt}')\n",
    "print(dash_line)\n",
    "print(f'BASELINE HUMAN ANSWER:\\n{answer}\\n')\n",
    "print(dash_line)\n",
    "print(f'FINE-TUNED MODEL - ZERO SHOT:\\n{output}')"
   ]
  },
  {
   "cell_type": "code",
   "execution_count": 12,
   "id": "d984c20f-31d2-469c-a282-611a9d861912",
   "metadata": {
    "tags": []
   },
   "outputs": [
    {
     "name": "stderr",
     "output_type": "stream",
     "text": [
      "Token indices sequence length is longer than the specified maximum sequence length for this model (1115 > 512). Running this sequence through the model will result in indexing errors\n"
     ]
    }
   ],
   "source": [
    "# Perform inferences for test dataset. Do 25 only, due to time it takes.\n",
    "\n",
    "questions = dataset['test'][0:25]['question']\n",
    "contexts = dataset['test'][0:25]['context']\n",
    "human_baseline_answers = dataset['test'][0:25]['answer']\n",
    "\n",
    "original_model_answers = []\n",
    "finetuned_model_answers = []\n",
    "\n",
    "for idx, question in enumerate(questions):\n",
    "    \n",
    "    prompt = f\"\"\"Tables:\n",
    "{contexts[idx]}\n",
    "\n",
    "Question:\n",
    "{question}\n",
    "\n",
    "Answer:\n",
    "\"\"\"\n",
    "      \n",
    "    input_ids = tokenizer(prompt, return_tensors=\"pt\").input_ids\n",
    "    input_ids = input_ids.to('cuda')\n",
    "\n",
    "    human_baseline_text_output = human_baseline_answers[idx]\n",
    "    \n",
    "    original_model_outputs = original_model.generate(input_ids=input_ids, generation_config=GenerationConfig(max_new_tokens=300))\n",
    "    original_model_text_output = tokenizer.decode(original_model_outputs[0], skip_special_tokens=True)\n",
    "    original_model_answers.append(original_model_text_output)\n",
    "    \n",
    "    finetuned_model_outputs = finetuned_model.generate(input_ids=input_ids, generation_config=GenerationConfig(max_new_tokens=300))\n",
    "    finetuned_model_text_output = tokenizer.decode(finetuned_model_outputs[0], skip_special_tokens=True)\n",
    "    finetuned_model_answers.append(finetuned_model_text_output)\n",
    "\n",
    "zipped_summaries = list(zip(human_baseline_answers, original_model_answers, finetuned_model_answers))\n",
    " \n",
    "df = pd.DataFrame(zipped_summaries, columns = ['human_baseline_answers', 'original_model_answers', 'finetuned_model_answers'])\n",
    "# df"
   ]
  },
  {
   "cell_type": "code",
   "execution_count": 13,
   "id": "fcf72f7f-0d25-433a-bb1d-86b22d2ea789",
   "metadata": {
    "tags": []
   },
   "outputs": [
    {
     "data": {
      "text/html": [
       "<div>\n",
       "<style scoped>\n",
       "    .dataframe tbody tr th:only-of-type {\n",
       "        vertical-align: middle;\n",
       "    }\n",
       "\n",
       "    .dataframe tbody tr th {\n",
       "        vertical-align: top;\n",
       "    }\n",
       "\n",
       "    .dataframe thead th {\n",
       "        text-align: right;\n",
       "    }\n",
       "</style>\n",
       "<table border=\"1\" class=\"dataframe\">\n",
       "  <thead>\n",
       "    <tr style=\"text-align: right;\">\n",
       "      <th></th>\n",
       "      <th>human_baseline_answers</th>\n",
       "      <th>original_model_answers</th>\n",
       "      <th>finetuned_model_answers</th>\n",
       "    </tr>\n",
       "  </thead>\n",
       "  <tbody>\n",
       "    <tr>\n",
       "      <th>0</th>\n",
       "      <td>SELECT date FROM table_name_11 WHERE away_team...</td>\n",
       "      <td>Question</td>\n",
       "      <td>SELECT date FROM table_name_11 WHERE away_team...</td>\n",
       "    </tr>\n",
       "    <tr>\n",
       "      <th>1</th>\n",
       "      <td>SELECT institution FROM table_1974632_1 WHERE ...</td>\n",
       "      <td>Question: state the institution in glenside, p...</td>\n",
       "      <td>SELECT institution FROM table_1974632_1 WHERE ...</td>\n",
       "    </tr>\n",
       "    <tr>\n",
       "      <th>2</th>\n",
       "      <td>SELECT home_team FROM table_name_4 WHERE away_...</td>\n",
       "      <td>True</td>\n",
       "      <td>SELECT home_team FROM table_name_4 WHERE away_...</td>\n",
       "    </tr>\n",
       "    <tr>\n",
       "      <th>3</th>\n",
       "      <td>SELECT date FROM table_name_49 WHERE home_team...</td>\n",
       "      <td>Question</td>\n",
       "      <td>SELECT date FROM table_name_49 WHERE home_team...</td>\n",
       "    </tr>\n",
       "    <tr>\n",
       "      <th>4</th>\n",
       "      <td>SELECT \"Character\" FROM table_79388 WHERE \"Dur...</td>\n",
       "      <td>True</td>\n",
       "      <td>SELECT \"Character\" FROM table_79388 WHERE \"Yea...</td>\n",
       "    </tr>\n",
       "    <tr>\n",
       "      <th>5</th>\n",
       "      <td>SELECT clubs FROM table_name_59 WHERE position...</td>\n",
       "      <td>Question</td>\n",
       "      <td>SELECT clubs FROM table_name_59 WHERE position...</td>\n",
       "    </tr>\n",
       "    <tr>\n",
       "      <th>6</th>\n",
       "      <td>SELECT record FROM table_name_72 WHERE date = ...</td>\n",
       "      <td>Question</td>\n",
       "      <td>SELECT record FROM table_name_72 WHERE date = ...</td>\n",
       "    </tr>\n",
       "    <tr>\n",
       "      <th>7</th>\n",
       "      <td>SELECT DISTINCT flight.flight_id FROM airport_...</td>\n",
       "      <td>CREATE TABLE flight_leg ( flight_id int, leg_n...</td>\n",
       "      <td>SELECT DISTINCT flight.flight_id FROM airport_...</td>\n",
       "    </tr>\n",
       "    <tr>\n",
       "      <th>8</th>\n",
       "      <td>SELECT season_joined_league FROM table_name_28...</td>\n",
       "      <td>Question</td>\n",
       "      <td>SELECT season_joined_league FROM table_name_28...</td>\n",
       "    </tr>\n",
       "    <tr>\n",
       "      <th>9</th>\n",
       "      <td>SELECT loss FROM table_name_48 WHERE date = \"s...</td>\n",
       "      <td>True</td>\n",
       "      <td>SELECT losing FROM table_name_48 WHERE date = ...</td>\n",
       "    </tr>\n",
       "    <tr>\n",
       "      <th>10</th>\n",
       "      <td>SELECT MAX(event) FROM table_30060356_3</td>\n",
       "      <td>Question: What is the highest numbered event? ...</td>\n",
       "      <td>SELECT MAX(event) FROM table_30060356_3</td>\n",
       "    </tr>\n",
       "    <tr>\n",
       "      <th>11</th>\n",
       "      <td>SELECT position_in_1959_1960 FROM table_name_4...</td>\n",
       "      <td>True</td>\n",
       "      <td>SELECT position_in_1959_1960 FROM table_name_4...</td>\n",
       "    </tr>\n",
       "    <tr>\n",
       "      <th>12</th>\n",
       "      <td>SELECT 1988 FROM table_name_88 WHERE 1987 = \"1r\"</td>\n",
       "      <td>Question</td>\n",
       "      <td>SELECT 1988 FROM table_name_88 WHERE 1987 = \"1r\"</td>\n",
       "    </tr>\n",
       "    <tr>\n",
       "      <th>13</th>\n",
       "      <td>SELECT MAX(year) FROM table_name_7 WHERE winni...</td>\n",
       "      <td>True</td>\n",
       "      <td>SELECT MAX(year) FROM table_name_7 WHERE winni...</td>\n",
       "    </tr>\n",
       "    <tr>\n",
       "      <th>14</th>\n",
       "      <td>SELECT position_in_1959_1960 FROM table_name_1...</td>\n",
       "      <td>True</td>\n",
       "      <td>SELECT position_in_1959_1960 FROM table_name_1...</td>\n",
       "    </tr>\n",
       "    <tr>\n",
       "      <th>15</th>\n",
       "      <td>SELECT 1981 FROM table_name_97 WHERE tournamen...</td>\n",
       "      <td>Question: What is the 1981 value at the Tourna...</td>\n",
       "      <td>SELECT 1981 FROM table_name_97 WHERE tournamen...</td>\n",
       "    </tr>\n",
       "    <tr>\n",
       "      <th>16</th>\n",
       "      <td>SELECT \"Printer\" FROM table_42927 WHERE \"Date ...</td>\n",
       "      <td>True</td>\n",
       "      <td>SELECT \"Printer\" FROM table_42927 WHERE \"Date ...</td>\n",
       "    </tr>\n",
       "    <tr>\n",
       "      <th>17</th>\n",
       "      <td>SELECT season_joined_league FROM table_name_54...</td>\n",
       "      <td>True</td>\n",
       "      <td>SELECT season_joined_league FROM table_name_54...</td>\n",
       "    </tr>\n",
       "    <tr>\n",
       "      <th>18</th>\n",
       "      <td>SELECT name FROM table_name_86 WHERE opened = ...</td>\n",
       "      <td>True</td>\n",
       "      <td>SELECT name FROM table_name_86 WHERE opened = ...</td>\n",
       "    </tr>\n",
       "    <tr>\n",
       "      <th>19</th>\n",
       "      <td>SELECT AVG(Reputation) AS \"average_reputation\"...</td>\n",
       "      <td>CREATE TABLE PostLinks ( Id number, PostId num...</td>\n",
       "      <td>SELECT p.Id AS \"post_link\", p.CreationDate AS ...</td>\n",
       "    </tr>\n",
       "    <tr>\n",
       "      <th>20</th>\n",
       "      <td>SELECT country FROM table_name_79 WHERE score ...</td>\n",
       "      <td>Question</td>\n",
       "      <td>SELECT country FROM table_name_79 WHERE score ...</td>\n",
       "    </tr>\n",
       "    <tr>\n",
       "      <th>21</th>\n",
       "      <td>SELECT status FROM table_name_89 WHERE opened ...</td>\n",
       "      <td>True</td>\n",
       "      <td>SELECT status FROM table_name_89 WHERE opened ...</td>\n",
       "    </tr>\n",
       "    <tr>\n",
       "      <th>22</th>\n",
       "      <td>SELECT \"Japanese title\" FROM table_51182 WHERE...</td>\n",
       "      <td>True</td>\n",
       "      <td>SELECT \"Romaji title\" FROM table_51182 WHERE \"...</td>\n",
       "    </tr>\n",
       "    <tr>\n",
       "      <th>23</th>\n",
       "      <td>SELECT SUM(money___) AS £__ FROM table_name_90...</td>\n",
       "      <td>Question</td>\n",
       "      <td>SELECT SUM(money___) FROM table_name_90 WHERE ...</td>\n",
       "    </tr>\n",
       "    <tr>\n",
       "      <th>24</th>\n",
       "      <td>SELECT model FROM table_name_16 WHERE status =...</td>\n",
       "      <td>True</td>\n",
       "      <td>SELECT model FROM table_name_16 WHERE status =...</td>\n",
       "    </tr>\n",
       "  </tbody>\n",
       "</table>\n",
       "</div>"
      ],
      "text/plain": [
       "                               human_baseline_answers  \\\n",
       "0   SELECT date FROM table_name_11 WHERE away_team...   \n",
       "1   SELECT institution FROM table_1974632_1 WHERE ...   \n",
       "2   SELECT home_team FROM table_name_4 WHERE away_...   \n",
       "3   SELECT date FROM table_name_49 WHERE home_team...   \n",
       "4   SELECT \"Character\" FROM table_79388 WHERE \"Dur...   \n",
       "5   SELECT clubs FROM table_name_59 WHERE position...   \n",
       "6   SELECT record FROM table_name_72 WHERE date = ...   \n",
       "7   SELECT DISTINCT flight.flight_id FROM airport_...   \n",
       "8   SELECT season_joined_league FROM table_name_28...   \n",
       "9   SELECT loss FROM table_name_48 WHERE date = \"s...   \n",
       "10            SELECT MAX(event) FROM table_30060356_3   \n",
       "11  SELECT position_in_1959_1960 FROM table_name_4...   \n",
       "12   SELECT 1988 FROM table_name_88 WHERE 1987 = \"1r\"   \n",
       "13  SELECT MAX(year) FROM table_name_7 WHERE winni...   \n",
       "14  SELECT position_in_1959_1960 FROM table_name_1...   \n",
       "15  SELECT 1981 FROM table_name_97 WHERE tournamen...   \n",
       "16  SELECT \"Printer\" FROM table_42927 WHERE \"Date ...   \n",
       "17  SELECT season_joined_league FROM table_name_54...   \n",
       "18  SELECT name FROM table_name_86 WHERE opened = ...   \n",
       "19  SELECT AVG(Reputation) AS \"average_reputation\"...   \n",
       "20  SELECT country FROM table_name_79 WHERE score ...   \n",
       "21  SELECT status FROM table_name_89 WHERE opened ...   \n",
       "22  SELECT \"Japanese title\" FROM table_51182 WHERE...   \n",
       "23  SELECT SUM(money___) AS £__ FROM table_name_90...   \n",
       "24  SELECT model FROM table_name_16 WHERE status =...   \n",
       "\n",
       "                               original_model_answers  \\\n",
       "0                                            Question   \n",
       "1   Question: state the institution in glenside, p...   \n",
       "2                                                True   \n",
       "3                                            Question   \n",
       "4                                                True   \n",
       "5                                            Question   \n",
       "6                                            Question   \n",
       "7   CREATE TABLE flight_leg ( flight_id int, leg_n...   \n",
       "8                                            Question   \n",
       "9                                                True   \n",
       "10  Question: What is the highest numbered event? ...   \n",
       "11                                               True   \n",
       "12                                           Question   \n",
       "13                                               True   \n",
       "14                                               True   \n",
       "15  Question: What is the 1981 value at the Tourna...   \n",
       "16                                               True   \n",
       "17                                               True   \n",
       "18                                               True   \n",
       "19  CREATE TABLE PostLinks ( Id number, PostId num...   \n",
       "20                                           Question   \n",
       "21                                               True   \n",
       "22                                               True   \n",
       "23                                           Question   \n",
       "24                                               True   \n",
       "\n",
       "                              finetuned_model_answers  \n",
       "0   SELECT date FROM table_name_11 WHERE away_team...  \n",
       "1   SELECT institution FROM table_1974632_1 WHERE ...  \n",
       "2   SELECT home_team FROM table_name_4 WHERE away_...  \n",
       "3   SELECT date FROM table_name_49 WHERE home_team...  \n",
       "4   SELECT \"Character\" FROM table_79388 WHERE \"Yea...  \n",
       "5   SELECT clubs FROM table_name_59 WHERE position...  \n",
       "6   SELECT record FROM table_name_72 WHERE date = ...  \n",
       "7   SELECT DISTINCT flight.flight_id FROM airport_...  \n",
       "8   SELECT season_joined_league FROM table_name_28...  \n",
       "9   SELECT losing FROM table_name_48 WHERE date = ...  \n",
       "10            SELECT MAX(event) FROM table_30060356_3  \n",
       "11  SELECT position_in_1959_1960 FROM table_name_4...  \n",
       "12   SELECT 1988 FROM table_name_88 WHERE 1987 = \"1r\"  \n",
       "13  SELECT MAX(year) FROM table_name_7 WHERE winni...  \n",
       "14  SELECT position_in_1959_1960 FROM table_name_1...  \n",
       "15  SELECT 1981 FROM table_name_97 WHERE tournamen...  \n",
       "16  SELECT \"Printer\" FROM table_42927 WHERE \"Date ...  \n",
       "17  SELECT season_joined_league FROM table_name_54...  \n",
       "18  SELECT name FROM table_name_86 WHERE opened = ...  \n",
       "19  SELECT p.Id AS \"post_link\", p.CreationDate AS ...  \n",
       "20  SELECT country FROM table_name_79 WHERE score ...  \n",
       "21  SELECT status FROM table_name_89 WHERE opened ...  \n",
       "22  SELECT \"Romaji title\" FROM table_51182 WHERE \"...  \n",
       "23  SELECT SUM(money___) FROM table_name_90 WHERE ...  \n",
       "24  SELECT model FROM table_name_16 WHERE status =...  "
      ]
     },
     "execution_count": 13,
     "metadata": {},
     "output_type": "execute_result"
    }
   ],
   "source": [
    "df"
   ]
  },
  {
   "cell_type": "code",
   "execution_count": 20,
   "id": "2e09ff15-30db-414c-aa08-11cef413650f",
   "metadata": {
    "tags": []
   },
   "outputs": [
    {
     "name": "stdout",
     "output_type": "stream",
     "text": [
      "ORIGINAL MODEL:\n",
      "{'rouge1': 0.02996415770609319, 'rouge2': 0.005, 'rougeL': 0.030566794240933115, 'rougeLsum': 0.030956459857498675}\n",
      "FINE-TUNED MODEL:\n",
      "{'rouge1': 0.9281907395888822, 'rouge2': 0.8917983416395394, 'rougeL': 0.9182615264948171, 'rougeLsum': 0.9191261027066355}\n"
     ]
    }
   ],
   "source": [
    "rouge = evaluate.load('rouge')\n",
    "\n",
    "original_model_results = rouge.compute(\n",
    "    predictions=original_model_answers,\n",
    "    references=human_baseline_answers[0:len(original_model_answers)],\n",
    "    use_aggregator=True,\n",
    "    use_stemmer=True,\n",
    ")\n",
    "print('ORIGINAL MODEL:')\n",
    "print(original_model_results)\n",
    "\n",
    "\n",
    "finetuned_model_results = rouge.compute(\n",
    "    predictions=finetuned_model_answers,\n",
    "    references=human_baseline_answers[0:len(finetuned_model_answers)],\n",
    "    use_aggregator=True,\n",
    "    use_stemmer=True,\n",
    ")\n",
    "print('FINE-TUNED MODEL:')\n",
    "print(finetuned_model_results)"
   ]
  },
  {
   "cell_type": "code",
   "execution_count": null,
   "id": "ad6074ce-531a-425f-a030-9c2a9c22c688",
   "metadata": {},
   "outputs": [],
   "source": []
  },
  {
   "cell_type": "code",
   "execution_count": 19,
   "id": "45b69169-ae74-4a44-bbc4-8c7ee23be72d",
   "metadata": {
    "tags": []
   },
   "outputs": [],
   "source": [
    "# pip install rouge_score"
   ]
  },
  {
   "cell_type": "code",
   "execution_count": null,
   "id": "36fabcc8-dbcd-4b4c-bd88-30b2fba94b3d",
   "metadata": {},
   "outputs": [],
   "source": []
  }
 ],
 "metadata": {
  "kernelspec": {
   "display_name": "Python 3 (ipykernel)",
   "language": "python",
   "name": "python3"
  },
  "language_info": {
   "codemirror_mode": {
    "name": "ipython",
    "version": 3
   },
   "file_extension": ".py",
   "mimetype": "text/x-python",
   "name": "python",
   "nbconvert_exporter": "python",
   "pygments_lexer": "ipython3",
   "version": "3.13.2"
  }
 },
 "nbformat": 4,
 "nbformat_minor": 5
}
